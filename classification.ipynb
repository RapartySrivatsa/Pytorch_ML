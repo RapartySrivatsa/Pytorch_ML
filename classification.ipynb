{
 "cells": [
  {
   "cell_type": "code",
   "execution_count": 2,
   "id": "cb561f22",
   "metadata": {},
   "outputs": [],
   "source": [
    "import numpy as np\n",
    "import matplotlib.pyplot as plt\n",
    "from matplotlib.colors import ListedColormap\n",
    "import torch\n",
    "# from torchmetrics.functional import r2_score, mean_squared_error, mean_absolute_error\n",
    "from torch import nn\n",
    "from torch.utils.data import Dataset, DataLoader\n"
   ]
  },
  {
   "cell_type": "code",
   "execution_count": 3,
   "id": "eacb041a",
   "metadata": {},
   "outputs": [
    {
     "data": {
      "text/plain": [
       "'cpu'"
      ]
     },
     "execution_count": 3,
     "metadata": {},
     "output_type": "execute_result"
    }
   ],
   "source": [
    "# check if a GPU is available\n",
    "DEVICE = 'cuda' if torch.cuda.is_available() else 'cpu'\n",
    "DEVICE"
   ]
  },
  {
   "cell_type": "markdown",
   "metadata": {},
   "source": [
    "## Utilities"
   ]
  },
  {
   "cell_type": "markdown",
   "metadata": {},
   "source": [
    "From Exercise 03, re-use the training loop. In addition, we provide you the following function for evaluating the classification accuracy of a pytorch classifier."
   ]
  },
  {
   "cell_type": "code",
   "execution_count": 4,
   "metadata": {},
   "outputs": [],
   "source": [
    "def evaluate_classification(model: nn.Module, criterion: nn.modules.loss._Loss, test_loader: DataLoader):\n",
    "\n",
    "    \"\"\"\n",
    "        Evaluates a classification model by computing loss and classification accuracy on a test set.\n",
    "\n",
    "        Parameters:\n",
    "        -----------\n",
    "        model : pytorch model.\n",
    "        test_loader : pytorch Dataloader containing the test data.\n",
    "        criterion: Loss function.\n",
    "\n",
    "    \"\"\"\n",
    "\n",
    "    model.eval()\n",
    "\n",
    "    val_loss, correct = 0, 0\n",
    "    for data, target in test_loader:\n",
    "        data = data.to(DEVICE)\n",
    "        target = target.to(DEVICE)\n",
    "        output = model(data)\n",
    "        val_loss += criterion(output, target).data.item()\n",
    "        pred = output.data.max(1)[1] # get the index of the max probability\n",
    "        correct += pred.eq(target.data).cpu().sum()\n",
    "\n",
    "    val_loss /= len(test_loader)\n",
    "\n",
    "    accuracy = 100. * correct.to(torch.float32) / len(test_loader.dataset)\n",
    "\n",
    "    return val_loss, accuracy\n",
    "\n"
   ]
  },
  {
   "cell_type": "code",
   "execution_count": 5,
   "metadata": {},
   "outputs": [],
   "source": [
    "def train(model:nn.Module, train_loader: DataLoader, optimizer: torch.optim.Optimizer, criterion: nn.modules.loss._Loss):\n",
    "    \"\"\"\n",
    "        Basic training loop for a pytorch model.\n",
    "\n",
    "        Parameters:\n",
    "        -----------\n",
    "        model : pytorch model.\n",
    "        train_loader : pytorch Dataloader containing the training data.\n",
    "        optimizer: Optimizer for gradient descent. \n",
    "        criterion: Loss function. \n",
    "\n",
    "    \"\"\"\n",
    "        \n",
    "    # Set model to training mode\n",
    "    model.train()\n",
    "    epoch_loss = 0\n",
    "    n_batches = len(train_loader)\n",
    "\n",
    "    # Loop over each batch from the training set\n",
    "    for (data, target) in train_loader:\n",
    "    \n",
    "        # Copy data to device\n",
    "        data = data.to(DEVICE)\n",
    "        target = target.to(DEVICE)\n",
    "\n",
    "        # set optimizer to zero grad to remove previous gradients\n",
    "        optimizer.zero_grad() \n",
    "\n",
    "        # Pass data through the network\n",
    "        output = model(data)\n",
    "\n",
    "        # Calculate loss\n",
    "        loss = criterion(output, target)\n",
    "\n",
    "        # get gradients\n",
    "        loss.backward()\n",
    "        \n",
    "        # gradient descent\n",
    "        optimizer.step()\n",
    "        \n",
    "        epoch_loss += loss.data.item()\n",
    "\n",
    "    return epoch_loss / n_batches\n"
   ]
  },
  {
   "cell_type": "markdown",
   "id": "e02ef1dc",
   "metadata": {},
   "source": [
    "# MNIST"
   ]
  },
  {
   "cell_type": "markdown",
   "id": "9b37f91e",
   "metadata": {},
   "source": [
    "### Loading the data"
   ]
  },
  {
   "cell_type": "markdown",
   "id": "7d12d217",
   "metadata": {},
   "source": [
    "We want to use a common dataset in machine learning, the [MNIST](http://yann.lecun.com/exdb/mnist/) dataset of hand-written digits. This is already contained in pytorch, so we don't need to generate it ourselfs and can just download it and store it in a DataLoader.\n",
    "\n",
    "The dataset is contained in the torchvision package, which we can add to our environment using \n",
    "\n",
    " conda install -c pytorch torchvision "
   ]
  },
  {
   "cell_type": "code",
   "execution_count": 6,
   "id": "74384519",
   "metadata": {},
   "outputs": [],
   "source": [
    "from torchvision import datasets, transforms\n",
    "from torch.utils.data import DataLoader, Subset"
   ]
  },
  {
   "cell_type": "code",
   "execution_count": 7,
   "id": "ef589af7",
   "metadata": {},
   "outputs": [
    {
     "name": "stdout",
     "output_type": "stream",
     "text": [
      "The length of train data is: 1000\n",
      "The length of test data is: 200\n"
     ]
    }
   ],
   "source": [
    "batch_size = 32\n",
    "\n",
    "train_dataset_full = datasets.MNIST('./data', \n",
    "                               train=True, \n",
    "                               download=True, \n",
    "                               transform=transforms.ToTensor())\n",
    "\n",
    "test_dataset_full = datasets.MNIST('./data', \n",
    "                                    train=False, \n",
    "                                    transform=transforms.ToTensor())\n",
    "\n",
    "# The full dataset contains 60000 samples - this is too much for this Exercise. We therefore choose a subset of 1000 samples randomly chosen.\n",
    "n_samples_train = 1000\n",
    "\n",
    " # get indices for training and test set\n",
    "ids = np.arange(len(train_dataset_full))\n",
    "np.random.shuffle(ids)\n",
    "train_dataset = Subset(train_dataset_full, ids[:n_samples_train])\n",
    "\n",
    "# get indices for training and test set\n",
    "n_samples_test = 200\n",
    "ids = np.arange(len(test_dataset_full))\n",
    "np.random.shuffle(ids)\n",
    "test_dataset = Subset(test_dataset_full, ids[:n_samples_test])\n",
    "\n",
    "train_loader = DataLoader(dataset=train_dataset, batch_size=batch_size, shuffle=True)\n",
    "\n",
    "test_loader = DataLoader(dataset=test_dataset, batch_size=batch_size, shuffle=False)\n",
    "\n",
    "print(\"The length of train data is:\",len(train_dataset))\n",
    "print(\"The length of test data is:\",len(test_dataset))\n"
   ]
  },
  {
   "cell_type": "markdown",
   "id": "bb178832",
   "metadata": {},
   "source": [
    "Let's have a look at a few samples from the training dataset."
   ]
  },
  {
   "cell_type": "code",
   "execution_count": 8,
   "id": "31945ce5",
   "metadata": {},
   "outputs": [],
   "source": [
    "# pltsize=1\n",
    "# plt.figure(figsize=(10*pltsize, pltsize))\n",
    "\n",
    "# for i, idata in enumerate(train_dataset.indices[:10]):\n",
    "\n",
    "#     image = train_dataset.dataset[idata][0]\n",
    "#     label =  train_dataset.dataset[idata][1]\n",
    "    \n",
    "#     plt.subplot(1,10,i+1)\n",
    "#     plt.axis('off')\n",
    "#     plt.imshow(image.numpy().reshape(28,28), cmap=\"gray_r\")\n",
    "#     plt.title('Class: '+str(label))\n",
    "\n"
   ]
  },
  {
   "cell_type": "markdown",
   "id": "53f31675",
   "metadata": {},
   "source": [
    "## MLP"
   ]
  },
  {
   "cell_type": "code",
   "execution_count": 9,
   "id": "062e15af",
   "metadata": {},
   "outputs": [],
   "source": [
    "class MLP(nn.Module):\n",
    "    def __init__(self, n_units: list, activation= nn.ReLU()):\n",
    "        \"\"\"\n",
    "            Simple multi-layer perceptron (MLP).\n",
    "\n",
    "            Parameters:\n",
    "            -----------\n",
    "            n_units : List of integers specifying the dimensions of input and output and the hidden layers.\n",
    "            activation: Activation function used for non-linearity. \n",
    "\n",
    "\n",
    "            Example:\n",
    "            -----------\n",
    "\n",
    "            dim_hidden = 100\n",
    "            dim_in = 2\n",
    "            dim_out = 5\n",
    "\n",
    "            # MLP with input dimension 2, output dimension 5, and 4 hidden layers of dimension 100\n",
    "            model = MLP([dim_in,\n",
    "                        dim_hidden,\n",
    "                        dim_hidden,\n",
    "                        dim_hidden,\n",
    "                        dim_hidden,\n",
    "                        dim_out],activation=nn.ReLU()).to(DEVICE)\n",
    "\n",
    "        \"\"\"\n",
    "        super().__init__()\n",
    "\n",
    "        # Get input and output dimensions\n",
    "        dims_in = n_units[:-1]\n",
    "        dims_out = n_units[1:]\n",
    "\n",
    "        layers = []\n",
    "\n",
    "        # Add linear layers (and activation function after all layers except the final one)\n",
    "        for i, (dim_in, dim_out) in enumerate(zip(dims_in, dims_out)):\n",
    "            layers.append(torch.nn.Linear(dim_in, dim_out))\n",
    "            \n",
    "            if i < len(n_units) - 2:\n",
    "                layers.append(activation)\n",
    "        \n",
    "\n",
    "        self._layers = torch.nn.Sequential(*layers)\n",
    "\n",
    "    def forward(self, x):\n",
    "        \"\"\"\n",
    "            MLP forward pass\n",
    "\n",
    "        \"\"\"\n",
    "        return self._layers(x)\n",
    "    \n",
    "    def count_parameters(self): \n",
    "        \"\"\"\n",
    "            Counts the number of trainable parameters.\n",
    "\n",
    "        \"\"\"\n",
    "        return sum(p.numel() for p in self.parameters() if p.requires_grad)"
   ]
  },
  {
   "cell_type": "code",
   "execution_count": 10,
   "id": "dfac04bb",
   "metadata": {},
   "outputs": [
    {
     "name": "stdout",
     "output_type": "stream",
     "text": [
      "Epoch 1/20, Train Loss: 2.1411, Test Loss: 1.8842, Test Accuracy: 48.50%\n",
      "Epoch 2/20, Train Loss: 1.5223, Test Loss: 1.1274, Test Accuracy: 68.50%\n",
      "Epoch 3/20, Train Loss: 0.8937, Test Loss: 0.7215, Test Accuracy: 79.50%\n",
      "Epoch 4/20, Train Loss: 0.6221, Test Loss: 0.5738, Test Accuracy: 81.50%\n",
      "Epoch 5/20, Train Loss: 0.4844, Test Loss: 0.4909, Test Accuracy: 86.00%\n",
      "Epoch 6/20, Train Loss: 0.4167, Test Loss: 0.4338, Test Accuracy: 88.00%\n",
      "Epoch 7/20, Train Loss: 0.3414, Test Loss: 0.4105, Test Accuracy: 87.00%\n",
      "Epoch 8/20, Train Loss: 0.3005, Test Loss: 0.3765, Test Accuracy: 88.00%\n",
      "Epoch 9/20, Train Loss: 0.2604, Test Loss: 0.3713, Test Accuracy: 89.00%\n",
      "Epoch 10/20, Train Loss: 0.2294, Test Loss: 0.3727, Test Accuracy: 90.00%\n",
      "Epoch 11/20, Train Loss: 0.2033, Test Loss: 0.3579, Test Accuracy: 88.00%\n",
      "Epoch 12/20, Train Loss: 0.1809, Test Loss: 0.3522, Test Accuracy: 89.00%\n",
      "Epoch 13/20, Train Loss: 0.1651, Test Loss: 0.3635, Test Accuracy: 89.00%\n",
      "Epoch 14/20, Train Loss: 0.1429, Test Loss: 0.3706, Test Accuracy: 89.50%\n",
      "Epoch 15/20, Train Loss: 0.1323, Test Loss: 0.3386, Test Accuracy: 87.50%\n",
      "Epoch 16/20, Train Loss: 0.1250, Test Loss: 0.3569, Test Accuracy: 89.00%\n",
      "Epoch 17/20, Train Loss: 0.1102, Test Loss: 0.3620, Test Accuracy: 88.00%\n",
      "Epoch 18/20, Train Loss: 0.0926, Test Loss: 0.3613, Test Accuracy: 88.00%\n",
      "Epoch 19/20, Train Loss: 0.0842, Test Loss: 0.3579, Test Accuracy: 88.00%\n",
      "Epoch 20/20, Train Loss: 0.0798, Test Loss: 0.3464, Test Accuracy: 88.50%\n"
     ]
    },
    {
     "data": {
      "image/png": "[encoded data removed]",
      "text/plain": [
       "<Figure size 1000x600 with 1 Axes>"
      ]
     },
     "metadata": {},
     "output_type": "display_data"
    }
   ],
   "source": [
    "# Define MLPClassifier\n",
    "class MLPClassifier(MLP):\n",
    "    def __init__(self, n_units: list, activation=nn.ReLU()):\n",
    "        super().__init__(n_units, activation)\n",
    "        \n",
    "        # Add a flatten layer at the beginning of the layers sequence\n",
    "        #layers are replaced by flatten an image to vector\n",
    "        self._layers = nn.Sequential(nn.Flatten(start_dim=1, end_dim=-1), *self._layers)\n",
    "\n",
    "# Define dimensions for the MLP classifier\n",
    "input_dim = 28 * 28  # Flattened image size\n",
    "output_dim = 10  # Number of classes (digits 0-9)\n",
    "hidden_dim = 40  # Hidden layer size\n",
    "n_units = [input_dim, hidden_dim, hidden_dim, output_dim]  # 2 hidden layers of size 40\n",
    "\n",
    "# Create an instance of the MLPClassifier\n",
    "model = MLPClassifier(n_units).to(DEVICE)\n",
    "\n",
    "# Use CrossEntropyLoss for classification\n",
    "criterion = nn.CrossEntropyLoss()\n",
    "optimizer = torch.optim.Adam(model.parameters(), lr=0.001)\n",
    "\n",
    "# Training parameters\n",
    "n_epochs = 20\n",
    "train_losses, test_accuracies = [], []\n",
    "\n",
    "for epoch in range(n_epochs):\n",
    "    # Train the model\n",
    "    train_loss = train(model, train_loader, optimizer, criterion)\n",
    "    train_losses.append(train_loss)\n",
    "\n",
    "    # Evaluate the model on the test set\n",
    "    test_loss, accuracy = evaluate_classification(model, criterion, test_loader)\n",
    "    test_accuracies.append(accuracy)\n",
    "\n",
    "    print(f\"Epoch {epoch+1}/{n_epochs}, Train Loss: {train_loss:.4f}, Test Loss: {test_loss:.4f}, Test Accuracy: {accuracy:.2f}%\")\n",
    "\n",
    "# Plot classification accuracy vs. epochs\n",
    "plt.figure(figsize=(10, 6))\n",
    "plt.plot(range(1, n_epochs + 1), test_accuracies, label='Test Accuracy')\n",
    "plt.xlabel(\"Epochs\")\n",
    "plt.ylabel(\"Classification Accuracy (%)\")\n",
    "plt.title(\"Classification Accuracy vs. Number of Epochs\")\n",
    "plt.legend()\n",
    "plt.show()\n"
   ]
  },
  {
   "cell_type": "markdown",
   "id": "af44717c",
   "metadata": {},
   "source": [
    "## CNN\n",
    "Here is an idea of how to structure the CNN"
   ]
  },
  {
   "cell_type": "code",
   "execution_count": 11,
   "id": "4c3b3ed6",
   "metadata": {},
   "outputs": [],
   "source": [
    "import torch.nn as nn\n",
    "\n",
    "\n",
    "class CNN(nn.Module):\n",
    "    def __init__(\n",
    "        self,\n",
    "        in_channels,\n",
    "        out_chanels,\n",
    "        kernel_size,\n",
    "        kernel_size_max_pool,\n",
    "        stride,\n",
    "        padding,\n",
    "    ):\n",
    "        super(CNN, self).__init__()\n",
    "\n",
    "        self.conv1 = ...  # Fill block\n",
    "\n",
    "        self.conv2 = ...  # Fill block\n",
    "\n",
    "        self.linear = ...  # Fill block\n",
    "\n",
    "    def forward(self, x):\n",
    "\n",
    "        x = self.conv1(x)\n",
    "        x = self.conv2(x)\n",
    "        x = x.view(x.size(0), -1)  # flattens the output of conv2 to (batch_size, *)\n",
    "        output = self.linear(x)\n",
    "\n",
    "        return output"
   ]
  },
  {
   "cell_type": "markdown",
   "id": "f4ab5a22",
   "metadata": {},
   "source": [
    "**nn.Conv2d and nn.MaxPool2d in PyTorch affects the dimensions of inputs and outputs**"
   ]
  },
  {
   "cell_type": "markdown",
   "id": "3a861efe",
   "metadata": {},
   "source": [
    "**1. 2D Convolution (nn.Conv2d)**\n",
    "\n",
    "The nn.Conv2d layer applies a set of filters (also called kernels) to an input image, producing an output feature map that captures local spatial patterns in the input. Each filter \"slides\" over the input, performing element-wise multiplications followed by summation, and produces one output channel.\n",
    "The output height (`H_out`) and width (`W_out`) of a convolutional layer are given by:\n",
    "\n",
    "`H_out = ((H_in + 2 * padding - kernel_size) / stride) + 1`\n",
    "\n",
    "`W_out = ((W_in + 2 * padding - kernel_size) / stride) + 1`\n"
   ]
  },
  {
   "cell_type": "markdown",
   "id": "fd63c45a",
   "metadata": {},
   "source": [
    "**2. 2D Max Pooling (nn.MaxPool2d)**\n",
    "\n",
    "The nn.MaxPool2d reduces the spatial dimensions of the input by taking the maximum value in each specified window. Pooling helps reduce computational complexity and makes the model more robust by focusing on the most salient features.\n",
    "The output height (`H_out`) and width (`W_out`) of a convolutional layer are given by:\n",
    "\n",
    "`H_out = ((H_in + 2 * padding - kernel_size) / stride) + 1`\n",
    "\n",
    "`W_out = ((W_in + 2 * padding - kernel_size) / stride) + 1`\n"
   ]
  },
  {
   "cell_type": "markdown",
   "id": "34df9b41",
   "metadata": {},
   "source": [
    "### Define CNN and MLP classes"
   ]
  },
  {
   "cell_type": "code",
   "execution_count": 20,
   "id": "5aed413b",
   "metadata": {},
   "outputs": [
    {
     "name": "stdout",
     "output_type": "stream",
     "text": [
      "Using device: cpu\n"
     ]
    }
   ],
   "source": [
    "# Check for GPU availability\n",
    "DEVICE = 'cuda' if torch.cuda.is_available() else 'cpu'\n",
    "print(f'Using device: {DEVICE}')\n",
    "\n",
    "\n",
    "# Define the CNN model as per instructions\n",
    "class CNN(nn.Module):\n",
    "    def __init__(self, in_channels=1, out_channels=16, kernel_size=5, kernel_size_max_pool=2, stride=1, padding=2):\n",
    "        super(CNN, self).__init__()\n",
    "        \n",
    "        # First convolutional block\n",
    "        self.conv1 = nn.Sequential(\n",
    "            nn.Conv2d(in_channels=in_channels, out_channels=out_channels, kernel_size=kernel_size, stride=stride, padding=padding),\n",
    "            nn.ReLU(),\n",
    "            nn.MaxPool2d(kernel_size=kernel_size_max_pool)\n",
    "        )\n",
    "        \n",
    "        # Second convolutional block\n",
    "        self.conv2 = nn.Sequential(\n",
    "            nn.Conv2d(in_channels=out_channels, out_channels=out_channels, kernel_size=kernel_size, stride=stride, padding=padding),\n",
    "            nn.ReLU(),\n",
    "            nn.MaxPool2d(kernel_size=kernel_size_max_pool)\n",
    "        )\n",
    "        \n",
    "        # Linear layer to map the output to 10 classes\n",
    "        self.linear = nn.Linear(out_channels * 7 * 7, 10)  \n",
    "        # Assuming input images are 28x28 (MNIST size), 2x2 kernel size reduces to 7x7\n",
    "    def forward(self, x):\n",
    "        x = self.conv1(x)\n",
    "        x = self.conv2(x)\n",
    "        x = x.view(x.size(0), -1)  # Flatten for the linear layer\n",
    "        output = self.linear(x)\n",
    "        return output\n",
    "\n",
    "# Define the MLP model for comparison\n",
    "class MLP(nn.Module):\n",
    "    def __init__(self):\n",
    "        super(MLP, self).__init__()\n",
    "        self.fc1 = nn.Linear(784, 128) #linear layer1:i/p features(16*7*7=784)\n",
    "        self.fc2 = nn.Linear(128, 64)  #linear layer2:i/p features(128 fm layer1 o/p)\n",
    "        self.fc3 = nn.Linear(64, 10)   #128 and 64 are common choices for small-to-medium-sized networks\n",
    "        self.relu = nn.ReLU()          #Final layer is 10 for MNIST data (10 classes neurons)\n",
    "\n",
    "    def forward(self, x):\n",
    "        x = x.view(x.size(0), -1)  # Flatten input image\n",
    "        x = self.relu(self.fc1(x))\n",
    "        x = self.relu(self.fc2(x))\n",
    "        return self.fc3(x)"
   ]
  },
  {
   "cell_type": "code",
   "execution_count": 21,
   "id": "f5b91bf3",
   "metadata": {},
   "outputs": [
    {
     "name": "stdout",
     "output_type": "stream",
     "text": [
      "Training MLP model...\n",
      "MLP Epoch 1: Train Loss = 1.9505, Test Loss = 1.3439, Accuracy = 71.00%\n",
      "MLP Epoch 2: Train Loss = 0.9276, Test Loss = 0.6281, Accuracy = 83.50%\n",
      "MLP Epoch 3: Train Loss = 0.5103, Test Loss = 0.4715, Accuracy = 84.50%\n",
      "MLP Epoch 4: Train Loss = 0.3894, Test Loss = 0.4208, Accuracy = 87.50%\n",
      "MLP Epoch 5: Train Loss = 0.3100, Test Loss = 0.3993, Accuracy = 87.50%\n",
      "MLP Epoch 6: Train Loss = 0.2345, Test Loss = 0.3801, Accuracy = 88.50%\n",
      "MLP Epoch 7: Train Loss = 0.1982, Test Loss = 0.3583, Accuracy = 88.50%\n",
      "MLP Epoch 8: Train Loss = 0.1696, Test Loss = 0.3974, Accuracy = 85.50%\n",
      "MLP Epoch 9: Train Loss = 0.1478, Test Loss = 0.4104, Accuracy = 87.50%\n",
      "MLP Epoch 10: Train Loss = 0.1086, Test Loss = 0.3983, Accuracy = 86.50%\n",
      "\n",
      "Training CNN model...\n",
      "CNN Epoch 1: Train Loss = 2.0114, Test Loss = 1.2878, Accuracy = 66.50%\n",
      "CNN Epoch 2: Train Loss = 0.8040, Test Loss = 0.5859, Accuracy = 79.00%\n",
      "CNN Epoch 3: Train Loss = 0.4805, Test Loss = 0.4248, Accuracy = 84.50%\n",
      "CNN Epoch 4: Train Loss = 0.3683, Test Loss = 0.3768, Accuracy = 87.00%\n",
      "CNN Epoch 5: Train Loss = 0.2977, Test Loss = 0.3071, Accuracy = 86.50%\n",
      "CNN Epoch 6: Train Loss = 0.2335, Test Loss = 0.2592, Accuracy = 89.00%\n",
      "CNN Epoch 7: Train Loss = 0.1799, Test Loss = 0.2835, Accuracy = 87.00%\n",
      "CNN Epoch 8: Train Loss = 0.1684, Test Loss = 0.2537, Accuracy = 90.00%\n",
      "CNN Epoch 9: Train Loss = 0.1474, Test Loss = 0.2061, Accuracy = 92.50%\n",
      "CNN Epoch 10: Train Loss = 0.1138, Test Loss = 0.1864, Accuracy = 92.00%\n",
      "\n",
      "Trainable parameters in MLP model: 109386\n",
      "Trainable parameters in CNN model: 14682\n"
     ]
    }
   ],
   "source": [
    "# Training both MLP n CNN here\n",
    "def train(model, train_loader, optimizer, criterion):\n",
    "    model.train()\n",
    "    epoch_loss = 0\n",
    "    for data, target in train_loader:\n",
    "        data, target = data.to(DEVICE), target.to(DEVICE)\n",
    "        optimizer.zero_grad()\n",
    "        output = model(data)\n",
    "        loss = criterion(output, target)\n",
    "        loss.backward()\n",
    "        optimizer.step()\n",
    "        epoch_loss += loss.item()\n",
    "    return epoch_loss / len(train_loader)\n",
    "\n",
    "# Evaluation function for both models\n",
    "def evaluate(model, test_loader, criterion):\n",
    "    model.eval()\n",
    "    test_loss, correct = 0, 0\n",
    "    with torch.no_grad():\n",
    "        for data, target in test_loader:\n",
    "            data, target = data.to(DEVICE), target.to(DEVICE)\n",
    "            output = model(data)\n",
    "            test_loss += criterion(output, target).item() #criterion using CSE loss\n",
    "            pred = output.argmax(dim=1, keepdim=True)\n",
    "            correct += pred.eq(target.view_as(pred)).sum().item()\n",
    "    test_loss /= len(test_loader)\n",
    "    accuracy = 100. * correct / len(test_loader.dataset)\n",
    "    return test_loss, accuracy\n",
    "\n",
    "# Load MNIST dataset\n",
    "transform = transforms.ToTensor()\n",
    "batch_size = 32\n",
    "\n",
    "train_dataset = datasets.MNIST(root='./data', train=True, download=True, transform=transform)\n",
    "test_dataset = datasets.MNIST(root='./data', train=False, transform=transform)\n",
    "\n",
    "#For experimentation with parameters using.random.choice() for test,train indices\n",
    "train_indices = np.random.choice(len(train_dataset), 1000, replace=False)\n",
    "test_indices = np.random.choice(len(test_dataset), 200, replace=False)\n",
    "\n",
    "#using subset here for faster experimentation\n",
    "train_loader = DataLoader(Subset(train_dataset, train_indices), batch_size=batch_size, shuffle=True)\n",
    "test_loader = DataLoader(Subset(test_dataset, test_indices), batch_size=batch_size, shuffle=False)\n",
    "\n",
    "# Define training parameters\n",
    "learning_rate = 0.001\n",
    "n_epochs = 10\n",
    "criterion = nn.CrossEntropyLoss()\n",
    "\n",
    "# Initialize and train MLP\n",
    "mlp_model = MLP().to(DEVICE)\n",
    "mlp_optimizer = optim.Adam(mlp_model.parameters(), lr=learning_rate)\n",
    "\n",
    "print(\"Training MLP model...\")\n",
    "for epoch in range(1, n_epochs + 1):\n",
    "    train_loss = train(mlp_model, train_loader, mlp_optimizer, criterion)\n",
    "    test_loss, accuracy = evaluate(mlp_model, test_loader, criterion)\n",
    "    print(f'MLP Epoch {epoch}: Train Loss = {train_loss:.4f}, Test Loss = {test_loss:.4f}, Accuracy = {accuracy:.2f}%')\n",
    "\n",
    "# Initialize and train CNN\n",
    "cnn_model = CNN().to(DEVICE)\n",
    "cnn_optimizer = optim.Adam(cnn_model.parameters(), lr=learning_rate)\n",
    "\n",
    "print(\"\\nTraining CNN model...\")\n",
    "for epoch in range(1, n_epochs + 1): #for epoch from 1 to n_epoch\n",
    "    train_loss = train(cnn_model, train_loader, cnn_optimizer, criterion)\n",
    "    test_loss, accuracy = evaluate(cnn_model, test_loader, criterion)\n",
    "    print(f'CNN Epoch {epoch}: Train Loss = {train_loss:.4f}, Test Loss = {test_loss:.4f}, Accuracy = {accuracy:.2f}%')\n",
    "\n",
    "# Count the number of trainable parameters using sum() fm mlp,cnn_model\n",
    "mlp_params_count = sum(p.numel() for p in mlp_model.parameters() if p.requires_grad)\n",
    "cnn_params_count = sum(p.numel() for p in cnn_model.parameters() if p.requires_grad)\n",
    "print(f'\\nTrainable parameters in MLP model: {mlp_params_count}')\n",
    "print(f'Trainable parameters in CNN model: {cnn_params_count}')\n"
   ]
  },
  {
   "cell_type": "markdown",
   "id": "cc84b237",
   "metadata": {},
   "source": [
    "Conclusions from results:\n",
    "1. CNN outperforms MLP in accuracy (92%) for 10 epochs\n",
    "2. CNN better suited for images to learn features like edges, textures. MLP treats each pix. as features so it can’t capture complex spatial features properly.\n",
    "3. MLP (109386) has more parameters over CNN (14682) due to convolutional layers of image data. CNN learn data efficiently over image reducing overfitting and more efficient for image data."
   ]
  },
  {
   "cell_type": "markdown",
   "id": "f6fa94a9",
   "metadata": {},
   "source": []
  }
 ],
 "metadata": {
  "kernelspec": {
   "display_name": "Python 3",
   "language": "python",
   "name": "python3"
  },
  "language_info": {
   "codemirror_mode": {
    "name": "ipython",
    "version": 3
   },
   "file_extension": ".py",
   "mimetype": "text/x-python",
   "name": "python",
   "nbconvert_exporter": "python",
   "pygments_lexer": "ipython3",
   "version": "3.12.5"
  }
 },
 "nbformat": 4,
 "nbformat_minor": 5
}
